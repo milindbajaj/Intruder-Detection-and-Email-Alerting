{
 "cells": [
  {
   "cell_type": "markdown",
   "metadata": {},
   "source": [
    "# Intruder Detection using Deep Learning version 2 \n",
    "Referenced from :\n",
    "https://github.com/ageitgey/face_recognition/blob/master/examples/facerec_from_webcam.py"
   ]
  },
  {
   "cell_type": "markdown",
   "metadata": {},
   "source": [
    "### Here we use face_recognition python module. This module runs upon dlib a c++ based library.\n",
    "#### It consists of 4 steps.\n",
    "* Step-1 : Encode the picture using the HOG algorithm to create a simplified version of the image. \n",
    "* Step-2 : Finding the main landmarks in the face like nose, mouth and ears.\n",
    "* Step-3 : Encoding Faces. Here we use a pre-trained Convolution Neural Network developed by OpenFace.\n",
    "* Step-4 : Finding the person’s name from the encoding.Compare which person has the closest measurements to our face’s measurements."
   ]
  },
  {
   "cell_type": "code",
   "execution_count": 1,
   "metadata": {},
   "outputs": [],
   "source": [
    "import glob\n",
    "import face_recognition\n",
    "import cv2\n",
    "import numpy as np\n",
    "import smtplib\n",
    "from email.mime.multipart import MIMEMultipart\n",
    "from email.mime.text import MIMEText\n",
    "from email.mime.application import MIMEApplication\n",
    "from datetime import datetime"
   ]
  },
  {
   "cell_type": "markdown",
   "metadata": {},
   "source": [
    "### Data Set Understanding "
   ]
  },
  {
   "cell_type": "code",
   "execution_count": 2,
   "metadata": {},
   "outputs": [
    {
     "name": "stdout",
     "output_type": "stream",
     "text": [
      "['bill gates']\n",
      "['bill gates', 'elon musk']\n",
      "['bill gates', 'elon musk', 'jeff bezos']\n",
      "['bill gates', 'elon musk', 'jeff bezos', 'Milind']\n",
      "['bill gates', 'elon musk', 'jeff bezos', 'Milind', 'obama']\n"
     ]
    }
   ],
   "source": [
    "paths = glob.glob('D:\\\\project\\\\data\\\\*')\n",
    "names = []\n",
    "images = []\n",
    "image_encodings = []\n",
    "image_names = []\n",
    "count_img = 0\n",
    "for i in paths:\n",
    "    images.append(face_recognition.load_image_file(i))\n",
    "    image_encodings.append(face_recognition.face_encodings(images[count_img])[0])\n",
    "    image_names.append(i.split('\\\\')[-1].split('.')[0])\n",
    "    count_img+=1\n",
    "    print(image_names)"
   ]
  },
  {
   "cell_type": "code",
   "execution_count": 3,
   "metadata": {},
   "outputs": [
    {
     "data": {
      "text/plain": [
       "(235, b'2.7.0 Accepted')"
      ]
     },
     "execution_count": 3,
     "metadata": {},
     "output_type": "execute_result"
    }
   ],
   "source": [
    "server = smtplib.SMTP('smtp.gmail.com',587)\n",
    "server.starttls()\n",
    "username = 'abc@gmail.com'\n",
    "passwd = 'pass'\n",
    "server.login(username,passwd)"
   ]
  },
  {
   "cell_type": "markdown",
   "metadata": {},
   "source": [
    "## Data encoding, Training and detecting"
   ]
  },
  {
   "cell_type": "code",
   "execution_count": 5,
   "metadata": {},
   "outputs": [],
   "source": [
    "count = 0\n",
    "cap = cv2.VideoCapture(0)\n",
    "while True:\n",
    "    ret,frame = cap.read()\n",
    "    gray = frame[:, :, ::-1]\n",
    "    face_locations = face_recognition.face_locations(gray)\n",
    "    face_encodings = face_recognition.face_encodings(gray, face_locations)\n",
    "    for (top, right, bottom, left), face_encoding in zip(face_locations, face_encodings):\n",
    "        matches = face_recognition.compare_faces(image_encodings, face_encoding)\n",
    "        name = 'Unknown'\n",
    "        face_distances = face_recognition.face_distance(image_encodings, face_encoding)\n",
    "        best_match_index = np.argmin(face_distances)\n",
    "        if matches[best_match_index]:\n",
    "            name = image_names[best_match_index]\n",
    "        if(name=='Unknown'):\n",
    "            cv2.imwrite('D:\\\\project\\\\intruders\\\\intru-{}.jpg'.format(count),frame)\n",
    "#             server = smtplib.SMTP('smtp.gmail.com',587)\n",
    "#             server.starttls()\n",
    "#             username = 'kaluramgates@gmail.com'\n",
    "#             passwd = 'K@luramGates321'\n",
    "#             server.login(username,passwd)\n",
    "            msg= MIMEMultipart()\n",
    "            msg['from'] = username\n",
    "            msg['to'] = username\n",
    "            msg['subject'] = \"[Urgent]Intruder Detected\"\n",
    "            text = \"Check these sample unknown person images, if some thing *fishy!!* check intruder folder immediately\"\n",
    "            msg.attach(MIMEText(text))\n",
    "            filename = \"D:\\project\\intruders\\intru-{}.jpg\".format(count)\n",
    "            f=open(filename,'rb')\n",
    "            part = MIMEApplication(f.read())\n",
    "            f.close()\n",
    "            part.add_header('content-Disposition','attachment',filename=filename)\n",
    "            msg.attach(part)\n",
    "            server.sendmail(username,username,msg.as_string())\n",
    "            count+=1\n",
    "        cv2.rectangle(frame, (left, top), (right, bottom), (0, 0, 255), 3)\n",
    "        font = cv2.FONT_HERSHEY_DUPLEX\n",
    "        cv2.putText(frame, name, (left + 6, bottom - 6), font, 1.0, (255, 255, 255), 1)\n",
    "    cv2.imshow(\"output\",frame)\n",
    "    if(cv2.waitKey(1)==ord('q')):\n",
    "        break\n",
    "cap.release()\n",
    "cv2.destroyAllWindows()"
   ]
  }
 ],
 "metadata": {
  "kernelspec": {
   "display_name": "Python 3",
   "language": "python",
   "name": "python3"
  },
  "language_info": {
   "codemirror_mode": {
    "name": "ipython",
    "version": 3
   },
   "file_extension": ".py",
   "mimetype": "text/x-python",
   "name": "python",
   "nbconvert_exporter": "python",
   "pygments_lexer": "ipython3",
   "version": "3.7.4"
  }
 },
 "nbformat": 4,
 "nbformat_minor": 2
}
